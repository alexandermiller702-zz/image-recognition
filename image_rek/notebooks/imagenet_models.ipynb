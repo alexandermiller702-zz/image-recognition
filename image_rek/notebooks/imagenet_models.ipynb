{
 "cells": [
  {
   "cell_type": "code",
   "execution_count": 1,
   "metadata": {
    "id": "v3uwEDW-XPDX",
    "colab_type": "code",
    "outputId": "0aee59e4-3410-452b-ed2e-87598551616c",
    "colab": {
     "base_uri": "https://localhost:8080/",
     "height": 34.0
    }
   },
   "outputs": [
    {
     "data": {
      "text/plain": [
       "'/device:GPU:0'"
      ]
     },
     "execution_count": 1,
     "metadata": {
      "tags": []
     },
     "output_type": "execute_result"
    }
   ],
   "source": [
    "import tensorflow as tf\n",
    "device_name = tf.test.gpu_device_name()\n",
    "device_name"
   ]
  },
  {
   "cell_type": "code",
   "execution_count": 2,
   "metadata": {
    "id": "Z6iq0nnKVUjf",
    "colab_type": "code",
    "outputId": "8b48ec74-a7db-47eb-d321-ba2dfbc0a552",
    "colab": {
     "base_uri": "https://localhost:8080/",
     "height": 122.0
    },
    "collapsed": true
   },
   "outputs": [
    {
     "name": "stdout",
     "output_type": "stream",
     "text": [
      "Go to this URL in a browser: https://accounts.google.com/o/oauth2/auth?client_id=947318989803-6bn6qk8qdgf4n4g3pfee6491hc0brc4i.apps.googleusercontent.com&redirect_uri=urn%3Aietf%3Awg%3Aoauth%3A2.0%3Aoob&scope=email%20https%3A%2F%2Fwww.googleapis.com%2Fauth%2Fdocs.test%20https%3A%2F%2Fwww.googleapis.com%2Fauth%2Fdrive%20https%3A%2F%2Fwww.googleapis.com%2Fauth%2Fdrive.photos.readonly%20https%3A%2F%2Fwww.googleapis.com%2Fauth%2Fpeopleapi.readonly&response_type=code\n",
      "\n",
      "Enter your authorization code:\n",
      "··········\n",
      "Mounted at /content/drive\n"
     ]
    }
   ],
   "source": [
    "from google.colab import drive\n",
    "drive.mount('/content/drive')"
   ]
  },
  {
   "cell_type": "code",
   "execution_count": 1,
   "metadata": {
    "id": "BSZ5I4RN2gb7",
    "colab_type": "code",
    "outputId": "4a58ecbd-ffcb-4bba-b026-417c88bdc323",
    "colab": {
     "base_uri": "https://localhost:8080/",
     "height": 34.0
    }
   },
   "outputs": [
    {
     "name": "stdout",
     "output_type": "stream",
     "text": [
      "cherry\tstrawberry  tomato\n"
     ]
    }
   ],
   "source": [
    "!ls \"./drive/My Drive/Train_data\""
   ]
  },
  {
   "cell_type": "code",
   "execution_count": 3,
   "metadata": {
    "id": "TXE3zKT2ZTX6",
    "colab_type": "code",
    "outputId": "32869e46-4528-4834-877c-92bc57a674c0",
    "colab": {
     "base_uri": "https://localhost:8080/",
     "height": 34.0
    },
    "collapsed": true
   },
   "outputs": [
    {
     "name": "stdout",
     "output_type": "stream",
     "text": [
      "Requirement already satisfied: imutils in /usr/local/lib/python3.6/dist-packages (0.5.1)\n"
     ]
    }
   ],
   "source": [
    "!pip install imutils"
   ]
  },
  {
   "cell_type": "code",
   "execution_count": 0,
   "metadata": {
    "id": "0Eca4Sch1Dhx",
    "colab_type": "code",
    "colab": {}
   },
   "outputs": [],
   "source": [
    "import numpy as np\n",
    "import random\n",
    "import cv2\n",
    "from imutils import paths\n",
    "import os\n",
    "from sklearn.preprocessing import LabelBinarizer\n",
    "from tensorflow.python.keras.preprocessing.image import img_to_array\n",
    "from tensorflow.keras.applications import (densenet,\n",
    "                                           inception_resnet_v2,\n",
    "                                           inception_v3,\n",
    "                                           nasnet,\n",
    "                                           resnet50,\n",
    "                                           vgg16,\n",
    "                                           vgg19,\n",
    "                                           xception)\n",
    "import tensorflow.keras as K\n",
    "\n",
    "# Set random seeds to ensure the reproducible results\n",
    "SEED = 309\n",
    "np.random.seed(SEED)\n",
    "random.seed(SEED)\n"
   ]
  },
  {
   "cell_type": "code",
   "execution_count": 0,
   "metadata": {
    "id": "9AWhoCO8Wy3o",
    "colab_type": "code",
    "colab": {}
   },
   "outputs": [],
   "source": [
    "t_size = [2000, 100]\n",
    "WIDTH, HEIGHT = 300,300"
   ]
  },
  {
   "cell_type": "code",
   "execution_count": 0,
   "metadata": {
    "id": "I05ZogS1W_ga",
    "colab_type": "code",
    "colab": {}
   },
   "outputs": [],
   "source": [
    "ps_up = sorted(list(paths.list_images(\"./drive/My Drive/Train_data\")))\n",
    "ps_up = [ps.replace(\"\\\\\",\"\") for ps in ps_up]\n",
    "\n",
    "# build a range as pointers for image files\n",
    "temp = range(0, len(ps_up))\n",
    "\n",
    "# randomly sample for our training set\n",
    "# needs to be big enough to be have capacity for a validation set\n",
    "train_indices = np.random.choice(temp, size = t_size[0])\n",
    "train = [ps_up[i] for i in train_indices]"
   ]
  },
  {
   "cell_type": "code",
   "execution_count": 0,
   "metadata": {
    "id": "6VkOkkCYXAhL",
    "colab_type": "code",
    "colab": {}
   },
   "outputs": [],
   "source": [
    "lbls, imgs = [],[]\n",
    "for imagePath in train:\n",
    "  image = cv2.imread(imagePath)\n",
    "  # load the image, pre-process it, and store it in the data list\n",
    "  image = cv2.resize(image, (WIDTH, HEIGHT))\n",
    "  image = img_to_array(image)\n",
    "  imgs.append(image)\n",
    "  label = imagePath.split(os.path.sep)[-2]\n",
    "  lbls.append(label)"
   ]
  },
  {
   "cell_type": "code",
   "execution_count": 0,
   "metadata": {
    "id": "JwucWannXc0O",
    "colab_type": "code",
    "colab": {}
   },
   "outputs": [],
   "source": [
    "X_train = np.array(imgs, dtype=\"float\") / 255.0\n",
    "y_train = np.array(lbls)\n",
    "\n",
    "# Binarize the labels\n",
    "lb = LabelBinarizer()\n",
    "y_train = lb.fit_transform(y_train)"
   ]
  },
  {
   "cell_type": "code",
   "execution_count": 0,
   "metadata": {
    "id": "G9z5NCO7Xnm9",
    "colab_type": "code",
    "colab": {}
   },
   "outputs": [],
   "source": [
    "# exclude those training images from our test set\n",
    "temp = [i for i in temp if i not in train]\n",
    "# subset for testing\n",
    "test_indices = np.random.choice(temp, size = t_size[1])\n",
    "test = [ps_up[i] for i in test_indices]\n",
    "\n",
    "lbls, imgs = [],[]\n",
    "\n",
    "for imagePath in test:\n",
    "  image = cv2.imread(imagePath)\n",
    "  # load the image, pre-process it, and store it in the data list\\\n",
    "  image = cv2.resize(image, (WIDTH, HEIGHT))\n",
    "  image = img_to_array(image)\n",
    "  imgs.append(image)\n",
    "  label = imagePath.split(os.path.sep)[-2]\n",
    "  lbls.append(label)\n",
    "\n"
   ]
  },
  {
   "cell_type": "code",
   "execution_count": 0,
   "metadata": {
    "id": "CEXwWDs51D8k",
    "colab_type": "code",
    "colab": {}
   },
   "outputs": [],
   "source": [
    "X_test = np.array(imgs, dtype=\"float\") / 255.0\n",
    "y_test = np.array(lbls)\n",
    "\n",
    "# Binarize the labels\n",
    "# lb = LabelBinarizer()\n",
    "y_test = lb.fit_transform(y_test)"
   ]
  },
  {
   "cell_type": "code",
   "execution_count": 8,
   "metadata": {
    "id": "eDg1mVSGY-xL",
    "colab_type": "code",
    "outputId": "133227af-204a-4868-97c8-48f09dd84c49",
    "colab": {
     "base_uri": "https://localhost:8080/",
     "height": 34.0
    }
   },
   "outputs": [
    {
     "name": "stdout",
     "output_type": "stream",
     "text": [
      "2000 2000 100 100\n"
     ]
    }
   ],
   "source": [
    "print(len(X_train),\n",
    "      len(y_train),\n",
    "      len(X_test),\n",
    "      len(y_test))"
   ]
  },
  {
   "cell_type": "markdown",
   "metadata": {
    "id": "cQx8Mp_zzQgk",
    "colab_type": "text"
   },
   "source": [
    "This is the switch for changing the model. The colab engine is memory restricted so can't take more than one in memory at any time. \n",
    "\n",
    "The instance needs to be terminated between models (to free up resources)."
   ]
  },
  {
   "cell_type": "code",
   "execution_count": 0,
   "metadata": {
    "id": "ILrd7EdKaNiq",
    "colab_type": "code",
    "colab": {}
   },
   "outputs": [],
   "source": [
    "model_name = 'xcept'\n",
    "# # models\n",
    "# #     'dense'\n",
    "# instance = densenet.DenseNet169(weights='imagenet', input_shape=(300, 300 ,3), include_top=False)\n",
    "# #     'incep_v3'\n",
    "# instance = inception_v3.InceptionV3(weights='imagenet', input_shape=(300, 300 ,3), include_top=False)\n",
    "# #     'nas'\n",
    "# instance = nasnet.NASNetMobile(weights='imagenet', input_shape=(300, 300 ,3), include_top=False)\n",
    "# #     'res' \n",
    "# instance = resnet50.ResNet50(weights='imagenet', input_shape=(300, 300 ,3), include_top=False)\n",
    "# #     'xcept'\n",
    "instance = xception.Xception(weights='imagenet', input_shape=(300, 300 ,3), include_top=False)"
   ]
  },
  {
   "cell_type": "code",
   "execution_count": 10,
   "metadata": {
    "id": "i6TJbr1Y86RF",
    "colab_type": "code",
    "colab": {
     "base_uri": "https://localhost:8080/",
     "height": 221.0
    },
    "outputId": "399f6608-3ca3-46c4-b8f5-81d8ab4a7362",
    "collapsed": true
   },
   "outputs": [
    {
     "name": "stdout",
     "output_type": "stream",
     "text": [
      "Train on 1600 samples, validate on 400 samples\n",
      "Epoch 1/5\n",
      "1600/1600 [==============================] - 273s 171ms/step - loss: 1.3032 - acc: 0.3981 - val_loss: 1.1474 - val_acc: 0.3875\n",
      "Epoch 2/5\n",
      "1600/1600 [==============================] - 257s 161ms/step - loss: 1.1976 - acc: 0.4250 - val_loss: 1.0955 - val_acc: 0.3525\n",
      "Epoch 3/5\n",
      "1600/1600 [==============================] - 257s 160ms/step - loss: 1.2945 - acc: 0.3781 - val_loss: 1.3127 - val_acc: 0.3000\n",
      "Epoch 4/5\n",
      "1600/1600 [==============================] - 257s 160ms/step - loss: 1.6970 - acc: 0.3581 - val_loss: 1.1344 - val_acc: 0.3850\n",
      "Epoch 5/5\n",
      "1600/1600 [==============================] - 257s 160ms/step - loss: 1.1155 - acc: 0.3744 - val_loss: 1.1107 - val_acc: 0.3850\n",
      "100/100 [==============================] - 3s 32ms/step\n"
     ]
    }
   ],
   "source": [
    "stack = K.models.Sequential()\n",
    "stack.add(instance)\n",
    "stack.add(K.layers.Flatten())\n",
    "stack.add(K.layers.Dense(1024, activation='relu'))\n",
    "stack.add(K.layers.Dropout(0.5))\n",
    "stack.add(K.layers.Dense(3, activation='sigmoid'))\n",
    "\n",
    "stack.compile(\n",
    "    optimizer=K.optimizers.Adam(),\n",
    "    loss='categorical_crossentropy',\n",
    "    metrics=['accuracy']\n",
    ")\n",
    "\n",
    "stack.fit(\n",
    "    X_train, y_train,\n",
    "    validation_split=0.2,\n",
    "    epochs=5,\n",
    "    batch_size=4\n",
    ")\n",
    "\n",
    "score = stack.evaluate(X_test, y_test)"
   ]
  },
  {
   "cell_type": "code",
   "execution_count": 11,
   "metadata": {
    "id": "P3Pl7Yg_G5sV",
    "colab_type": "code",
    "colab": {
     "base_uri": "https://localhost:8080/",
     "height": 80.0
    },
    "outputId": "e11d6e88-4e99-4c89-a516-2020956b3207"
   },
   "outputs": [
    {
     "data": {
      "text/html": [
       "<div>\n",
       "<style scoped>\n",
       "    .dataframe tbody tr th:only-of-type {\n",
       "        vertical-align: middle;\n",
       "    }\n",
       "\n",
       "    .dataframe tbody tr th {\n",
       "        vertical-align: top;\n",
       "    }\n",
       "\n",
       "    .dataframe thead th {\n",
       "        text-align: right;\n",
       "    }\n",
       "</style>\n",
       "<table border=\"1\" class=\"dataframe\">\n",
       "  <thead>\n",
       "    <tr style=\"text-align: right;\">\n",
       "      <th></th>\n",
       "      <th>loss</th>\n",
       "      <th>acc</th>\n",
       "      <th>Model</th>\n",
       "    </tr>\n",
       "  </thead>\n",
       "  <tbody>\n",
       "    <tr>\n",
       "      <th>0</th>\n",
       "      <td>1.085808</td>\n",
       "      <td>0.38</td>\n",
       "      <td>xcept</td>\n",
       "    </tr>\n",
       "  </tbody>\n",
       "</table>\n",
       "</div>"
      ],
      "text/plain": [
       "       loss   acc  Model\n",
       "0  1.085808  0.38  xcept"
      ]
     },
     "execution_count": 11,
     "metadata": {
      "tags": []
     },
     "output_type": "execute_result"
    }
   ],
   "source": [
    "from pandas import DataFrame\n",
    "score = DataFrame(score)\n",
    "score = score.transpose()\n",
    "score.columns = stack.metrics_names\n",
    "score['Model'] = model_name\n",
    "score.to_csv(\"./drive/My Drive/scores_comparison.csv\", mode='a+')\n",
    "score"
   ]
  }
 ],
 "metadata": {
  "colab": {
   "name": "pretrained_models.ipynb",
   "version": "0.3.2",
   "provenance": [],
   "collapsed_sections": []
  },
  "kernelspec": {
   "name": "python3",
   "display_name": "Python 3"
  },
  "accelerator": "GPU"
 },
 "nbformat": 4,
 "nbformat_minor": 0
}

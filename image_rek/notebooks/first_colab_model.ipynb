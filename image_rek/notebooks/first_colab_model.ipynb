{
 "cells": [
  {
   "cell_type": "code",
   "execution_count": 2,
   "metadata": {
    "id": "pFlXwUu3lCY1",
    "colab_type": "code",
    "colab": {
     "base_uri": "https://localhost:8080/",
     "height": 122.0
    },
    "outputId": "9cbc1ace-56e3-41c6-c7a6-ca75490b8094",
    "collapsed": true
   },
   "outputs": [
    {
     "name": "stdout",
     "output_type": "stream",
     "text": [
      "Go to this URL in a browser: https://accounts.google.com/o/oauth2/auth?client_id=947318989803-6bn6qk8qdgf4n4g3pfee6491hc0brc4i.apps.googleusercontent.com&redirect_uri=urn%3Aietf%3Awg%3Aoauth%3A2.0%3Aoob&scope=email%20https%3A%2F%2Fwww.googleapis.com%2Fauth%2Fdocs.test%20https%3A%2F%2Fwww.googleapis.com%2Fauth%2Fdrive%20https%3A%2F%2Fwww.googleapis.com%2Fauth%2Fdrive.photos.readonly%20https%3A%2F%2Fwww.googleapis.com%2Fauth%2Fpeopleapi.readonly&response_type=code\n",
      "\n",
      "Enter your authorization code:\n",
      "··········\n",
      "Mounted at /content/drive\n"
     ]
    }
   ],
   "source": [
    "from google.colab import drive\n",
    "drive.mount('/content/drive')"
   ]
  },
  {
   "cell_type": "code",
   "execution_count": 1,
   "metadata": {
    "id": "7HsCbCCk0zyj",
    "colab_type": "code",
    "colab": {
     "base_uri": "https://localhost:8080/",
     "height": 34.0
    },
    "outputId": "f427e142-712d-4cd1-dc91-31715c845c0a"
   },
   "outputs": [
    {
     "name": "stdout",
     "output_type": "stream",
     "text": [
      "cherry\tstrawberry  tomato\n"
     ]
    }
   ],
   "source": [
    "!ls \"drive/My Drive/Train_data\""
   ]
  },
  {
   "cell_type": "code",
   "execution_count": 2,
   "metadata": {
    "id": "mt_kdzw1RONl",
    "colab_type": "code",
    "colab": {
     "base_uri": "https://localhost:8080/",
     "height": 34.0
    },
    "outputId": "0e1297ee-d51d-4373-c75d-2283bf14d4aa"
   },
   "outputs": [
    {
     "data": {
      "text/plain": [
       "'/device:GPU:0'"
      ]
     },
     "execution_count": 2,
     "metadata": {
      "tags": []
     },
     "output_type": "execute_result"
    }
   ],
   "source": [
    "import tensorflow as tf\n",
    "tf.test.gpu_device_name()"
   ]
  },
  {
   "cell_type": "code",
   "execution_count": 5,
   "metadata": {
    "id": "iXR7Kq_AdZuC",
    "colab_type": "code",
    "colab": {
     "base_uri": "https://localhost:8080/",
     "height": 153.0
    },
    "outputId": "b80c7d4d-d787-4610-c22e-4fc2cd31b455",
    "collapsed": true
   },
   "outputs": [
    {
     "name": "stdout",
     "output_type": "stream",
     "text": [
      "Collecting imutils\n",
      "  Downloading https://files.pythonhosted.org/packages/ee/29/6b20a2f2444be479cbd74b8fb0dd2ee92671e1c52360f1cb022c6c00e052/imutils-0.5.1.tar.gz\n",
      "Building wheels for collected packages: imutils\n",
      "  Running setup.py bdist_wheel for imutils ... \u001b[?25l-\b \b\\\b \bdone\n",
      "\u001b[?25h  Stored in directory: /root/.cache/pip/wheels/4c/ff/aa/824fb9efc5b8c740d54cd8bc19c7e85fbb8d115c77e56812c7\n",
      "Successfully built imutils\n",
      "Installing collected packages: imutils\n",
      "Successfully installed imutils-0.5.1\n"
     ]
    }
   ],
   "source": [
    "!pip install imutils"
   ]
  },
  {
   "cell_type": "code",
   "execution_count": 0,
   "metadata": {
    "id": "4zWz0975o4IE",
    "colab_type": "code",
    "colab": {}
   },
   "outputs": [],
   "source": [
    "import numpy as np\n",
    "import random\n",
    "import cv2\n",
    "from imutils import paths\n",
    "import os\n",
    "import tensorflow.keras as K\n",
    "from sklearn.preprocessing import LabelBinarizer\n",
    "from tensorflow.keras.preprocessing.image import img_to_array, ImageDataGenerator\n",
    "from tensorflow.keras.models import Sequential\n",
    "from tensorflow.keras.layers import (Convolution2D, MaxPooling2D, Flatten, Dense, Dropout)\n",
    "\n",
    "SEED = 309\n",
    "np.random.seed(SEED)\n",
    "random.seed(SEED)"
   ]
  },
  {
   "cell_type": "markdown",
   "metadata": {
    "id": "_CWY2wehpHDQ",
    "colab_type": "text"
   },
   "source": [
    "Set parameters for your run here. "
   ]
  },
  {
   "cell_type": "code",
   "execution_count": 0,
   "metadata": {
    "id": "q6qJ8VwMdgQP",
    "colab_type": "code",
    "colab": {}
   },
   "outputs": [],
   "source": [
    "BATCH_SIZE = 128\n",
    "CLASSES = 3\n",
    "EPOCHS = 5\n",
    "# Total train dataset size is 3755\n",
    "t_size = [3500, 200]\n",
    "WIDTH, HEIGHT = 300, 300\n",
    "image_size = (WIDTH, HEIGHT, 3)\n",
    "test_data_dir = \"./drive/My Drive/Train_data\""
   ]
  },
  {
   "cell_type": "markdown",
   "metadata": {
    "id": "O2defztbpJ_f",
    "colab_type": "text"
   },
   "source": [
    "This collects the indices of the images data ()their file paths)"
   ]
  },
  {
   "cell_type": "code",
   "execution_count": 0,
   "metadata": {
    "id": "MLzg5baXbyrE",
    "colab_type": "code",
    "colab": {}
   },
   "outputs": [],
   "source": [
    "ps_up = sorted(list(paths.list_images(\"./drive/My Drive/Train_data\")))\n",
    "ps_up = [ps.replace(\"\\\\\",\"\") for ps in ps_up]\n",
    "\n",
    "# build a range as pointers for image files\n",
    "temp = range(0, len(ps_up))"
   ]
  },
  {
   "cell_type": "markdown",
   "metadata": {
    "id": "U4PaLmjbpP-3",
    "colab_type": "text"
   },
   "source": [
    "Load training data"
   ]
  },
  {
   "cell_type": "code",
   "execution_count": 0,
   "metadata": {
    "id": "G_SWRgXb2WYs",
    "colab_type": "code",
    "colab": {}
   },
   "outputs": [],
   "source": [
    "# randomly sample for our training set\n",
    "# needs to be big enough to be have capacity for a validation set\n",
    "train_indices = np.random.choice(temp, size = t_size[0], replace = False)\n",
    "train = [ps_up[i] for i in train_indices]\n",
    "\n",
    "lbls, imgs = [],[]\n",
    "for imagePath in train:\n",
    "  image = cv2.imread(imagePath)\n",
    "  # load the image, pre-process it, and store it in the data list\n",
    "  image = cv2.resize(image, (WIDTH, HEIGHT))\n",
    "  image = img_to_array(image)\n",
    "  imgs.append(image)\n",
    "  label = imagePath.split(os.path.sep)[-2]\n",
    "  lbls.append(label)\n",
    "\n",
    "X_train = np.array(imgs, dtype=\"float\") / 255.0\n",
    "y_train = np.array(lbls)\n",
    "\n",
    "# Binarize the labels\n",
    "lb = LabelBinarizer()\n",
    "y_train = lb.fit_transform(y_train)"
   ]
  },
  {
   "cell_type": "markdown",
   "metadata": {
    "id": "lEaashvFpgiH",
    "colab_type": "text"
   },
   "source": [
    "Load test data"
   ]
  },
  {
   "cell_type": "code",
   "execution_count": 0,
   "metadata": {
    "id": "ZZd5BdM_2WQN",
    "colab_type": "code",
    "colab": {}
   },
   "outputs": [],
   "source": [
    "# exclude those training images from our test set\n",
    "temp = [i for i in temp if i not in train]\n",
    "# subset for testing\n",
    "test_indices = np.random.choice(temp, size = t_size[1], replace = False)\n",
    "test = [ps_up[i] for i in test_indices]\n",
    "\n",
    "lbls, imgs = [],[]\n",
    "for imagePath in test:\n",
    "  image = cv2.imread(imagePath)\n",
    "  # load the image, pre-process it, and store it in the data list\\\n",
    "  image = cv2.resize(image, (WIDTH, HEIGHT))\n",
    "  image = img_to_array(image)\n",
    "  imgs.append(image)\n",
    "  label = imagePath.split(os.path.sep)[-2]\n",
    "  lbls.append(label)\n",
    "\n",
    "X_test = np.array(imgs, dtype=\"float\") / 255.0\n",
    "y_test = np.array(lbls)\n",
    "\n",
    "# Binarize the labels\n",
    "# Re use the original binariser.\n",
    "y_test = lb.fit_transform(y_test)"
   ]
  },
  {
   "cell_type": "markdown",
   "metadata": {
    "id": "K42RtF1cph9B",
    "colab_type": "text"
   },
   "source": [
    "This is a quick sanity check"
   ]
  },
  {
   "cell_type": "code",
   "execution_count": 6,
   "metadata": {
    "id": "OuQfqbAA2WHe",
    "colab_type": "code",
    "colab": {
     "base_uri": "https://localhost:8080/",
     "height": 34.0
    },
    "outputId": "956eb1f9-2805-48e5-b054-22bf8dbd6cd0"
   },
   "outputs": [
    {
     "name": "stdout",
     "output_type": "stream",
     "text": [
      "[2750, 2750] [200, 200]\n"
     ]
    }
   ],
   "source": [
    "print('X_train', 'y_train', 'X_test', 'y_test')\n",
    "print([len(X_train)==t_size[0],len(y_train)==t_size[0]],\n",
    "      [len(X_test)==t_size[1], len(y_test)==t_size[1]])"
   ]
  },
  {
   "cell_type": "markdown",
   "metadata": {
    "id": "BKl1N2TdMj5a",
    "colab_type": "text"
   },
   "source": [
    "model"
   ]
  },
  {
   "cell_type": "code",
   "execution_count": 0,
   "metadata": {
    "id": "CPAVLnAg2sR7",
    "colab_type": "code",
    "colab": {}
   },
   "outputs": [],
   "source": [
    "classifier = Sequential()\n",
    "# Base layer\n",
    "classifier.add(\n",
    "    Convolution2D(\n",
    "        64, 3, 3,\n",
    "        input_shape=image_size,\n",
    "        activation='relu'\n",
    "    )\n",
    ")\n",
    "classifier.add(MaxPooling2D(pool_size=(2, 2)))\n",
    "classifier.add(Convolution2D(128, 3, 3, activation='relu'))\n",
    "classifier.add(MaxPooling2D(pool_size=(2, 2)))\n",
    "\n",
    "classifier.add(Flatten())\n",
    "classifier.add(Dense(units=300, activation='relu'))\n",
    "classifier.add(Dense(units=3, activation='sigmoid'))\n",
    "\n",
    "classifier.compile(\n",
    "    loss=K.losses.categorical_crossentropy,\n",
    "    optimizer=K.optimizers.Adam(),\n",
    "    metrics=['accuracy'],\n",
    "    \n",
    ")"
   ]
  },
  {
   "cell_type": "markdown",
   "metadata": {
    "id": "0ycrv0zUp4Mn",
    "colab_type": "text"
   },
   "source": [
    "Fit without generator:\n",
    "\n",
    "Callback is CSVLogger so it can write to drive."
   ]
  },
  {
   "cell_type": "code",
   "execution_count": 11,
   "metadata": {
    "id": "h88XhXu5KdU2",
    "colab_type": "code",
    "colab": {
     "base_uri": "https://localhost:8080/",
     "height": 731.0
    },
    "outputId": "f94458af-1a41-4ec4-cd98-08cd866655b3",
    "collapsed": true
   },
   "outputs": [
    {
     "name": "stdout",
     "output_type": "stream",
     "text": [
      "Train on 2800 samples, validate on 700 samples\n",
      "Epoch 1/20\n",
      "2800/2800 [==============================] - 9s 3ms/step - loss: 0.1992 - acc: 0.9282 - val_loss: 0.9413 - val_acc: 0.7357\n",
      "Epoch 2/20\n",
      "2800/2800 [==============================] - 9s 3ms/step - loss: 0.1209 - acc: 0.9575 - val_loss: 1.1180 - val_acc: 0.7286\n",
      "Epoch 3/20\n",
      "2800/2800 [==============================] - 9s 3ms/step - loss: 0.0725 - acc: 0.9789 - val_loss: 1.1354 - val_acc: 0.7143\n",
      "Epoch 4/20\n",
      "2800/2800 [==============================] - 9s 3ms/step - loss: 0.0335 - acc: 0.9936 - val_loss: 1.3108 - val_acc: 0.7186\n",
      "Epoch 5/20\n",
      "2800/2800 [==============================] - 9s 3ms/step - loss: 0.0184 - acc: 0.9964 - val_loss: 1.7713 - val_acc: 0.6957\n",
      "Epoch 6/20\n",
      "2800/2800 [==============================] - 9s 3ms/step - loss: 0.0565 - acc: 0.9843 - val_loss: 1.4023 - val_acc: 0.7186\n",
      "Epoch 7/20\n",
      "2800/2800 [==============================] - 9s 3ms/step - loss: 0.0254 - acc: 0.9943 - val_loss: 1.6430 - val_acc: 0.7157\n",
      "Epoch 8/20\n",
      "2800/2800 [==============================] - 9s 3ms/step - loss: 0.0077 - acc: 0.9996 - val_loss: 1.5942 - val_acc: 0.6986\n",
      "Epoch 9/20\n",
      "2800/2800 [==============================] - 9s 3ms/step - loss: 0.0025 - acc: 1.0000 - val_loss: 1.6597 - val_acc: 0.7243\n",
      "Epoch 10/20\n",
      "2800/2800 [==============================] - 9s 3ms/step - loss: 0.0015 - acc: 1.0000 - val_loss: 1.7163 - val_acc: 0.7214\n",
      "Epoch 11/20\n",
      "2800/2800 [==============================] - 9s 3ms/step - loss: 9.8566e-04 - acc: 1.0000 - val_loss: 1.7560 - val_acc: 0.7129\n",
      "Epoch 12/20\n",
      "2800/2800 [==============================] - 9s 3ms/step - loss: 7.8897e-04 - acc: 1.0000 - val_loss: 1.7811 - val_acc: 0.7171\n",
      "Epoch 13/20\n",
      "2800/2800 [==============================] - 9s 3ms/step - loss: 6.4372e-04 - acc: 1.0000 - val_loss: 1.8002 - val_acc: 0.7214\n",
      "Epoch 14/20\n",
      "2800/2800 [==============================] - 9s 3ms/step - loss: 5.3931e-04 - acc: 1.0000 - val_loss: 1.8262 - val_acc: 0.7186\n",
      "Epoch 15/20\n",
      "2800/2800 [==============================] - 9s 3ms/step - loss: 4.8060e-04 - acc: 1.0000 - val_loss: 1.8353 - val_acc: 0.7214\n",
      "Epoch 16/20\n",
      "2800/2800 [==============================] - 9s 3ms/step - loss: 4.2259e-04 - acc: 1.0000 - val_loss: 1.8487 - val_acc: 0.7157\n",
      "Epoch 17/20\n",
      "2800/2800 [==============================] - 9s 3ms/step - loss: 3.5921e-04 - acc: 1.0000 - val_loss: 1.8723 - val_acc: 0.7186\n",
      "Epoch 18/20\n",
      "2800/2800 [==============================] - 9s 3ms/step - loss: 3.2635e-04 - acc: 1.0000 - val_loss: 1.8804 - val_acc: 0.7200\n",
      "Epoch 19/20\n",
      "2800/2800 [==============================] - 9s 3ms/step - loss: 2.9036e-04 - acc: 1.0000 - val_loss: 1.9078 - val_acc: 0.7186\n",
      "Epoch 20/20\n",
      "2800/2800 [==============================] - 9s 3ms/step - loss: 2.6345e-04 - acc: 1.0000 - val_loss: 1.9192 - val_acc: 0.7214\n"
     ]
    },
    {
     "data": {
      "text/plain": [
       "[0.5157422641804442, 0.94]"
      ]
     },
     "execution_count": 11,
     "metadata": {
      "tags": []
     },
     "output_type": "execute_result"
    }
   ],
   "source": [
    "classifier.fit(\n",
    "    X_train, y_train,\n",
    "    batch_size=32,\n",
    "    epochs=50,\n",
    "    verbose=1,\n",
    "    validation_split=0.2, \n",
    "    callbacks=K.callbacks.CSVLogger('./drive/My Drive/prj/logs/', separator=',', append=False)\n",
    ")\n",
    "score = classifier.evaluate(X_test, y_test, verbose=0)\n",
    "score"
   ]
  },
  {
   "cell_type": "markdown",
   "metadata": {
    "id": "70qGyUdWp-EN",
    "colab_type": "text"
   },
   "source": [
    "Save Model"
   ]
  },
  {
   "cell_type": "code",
   "execution_count": 0,
   "metadata": {
    "id": "6UEXmqzjQx90",
    "colab_type": "code",
    "colab": {}
   },
   "outputs": [],
   "source": [
    "# classifier.save(\"./drive/My Drive/prj/models/first.h5\", 'w+')"
   ]
  },
  {
   "cell_type": "markdown",
   "metadata": {
    "id": "IMAmTCWtqMM2",
    "colab_type": "text"
   },
   "source": [
    "Image noise generator:"
   ]
  },
  {
   "cell_type": "code",
   "execution_count": 0,
   "metadata": {
    "id": "70Gvo1_g1jel",
    "colab_type": "code",
    "colab": {}
   },
   "outputs": [],
   "source": [
    "transformer= ImageDataGenerator(\n",
    "    zoom_range=0.2,  # randomly zoom into images\n",
    "    rotation_range=10,  # randomly rotate images in the range (degrees, 0 to 180)\n",
    "    width_shift_range=0.1,  # randomly shift images horizontally (fraction of total width)\n",
    "    height_shift_range=0.1,  # randomly shift images vertically (fraction of total height)\n",
    "    horizontal_flip=True,  # randomly flip images\n",
    "    vertical_flip=True  # randomly flip images\n",
    ")"
   ]
  },
  {
   "cell_type": "markdown",
   "metadata": {
    "id": "3avQwJblqPwD",
    "colab_type": "text"
   },
   "source": [
    "Train with generator"
   ]
  },
  {
   "cell_type": "code",
   "execution_count": 9,
   "metadata": {
    "id": "yL6ISQScWV-w",
    "colab_type": "code",
    "colab": {
     "base_uri": "https://localhost:8080/",
     "height": 374.0
    },
    "outputId": "434ab169-d682-4f05-90bd-c5b6a49ce90b",
    "collapsed": true
   },
   "outputs": [
    {
     "name": "stdout",
     "output_type": "stream",
     "text": [
      "Epoch 1/10\n",
      "86/86 [==============================] - 59s 685ms/step - loss: 1.0576 - acc: 0.4337\n",
      "Epoch 2/10\n",
      "86/86 [==============================] - 57s 664ms/step - loss: 0.9180 - acc: 0.5739\n",
      "Epoch 3/10\n",
      "86/86 [==============================] - 57s 658ms/step - loss: 0.8582 - acc: 0.6091\n",
      "Epoch 4/10\n",
      "86/86 [==============================] - 56s 656ms/step - loss: 0.8284 - acc: 0.6236\n",
      "Epoch 5/10\n",
      "86/86 [==============================] - 57s 663ms/step - loss: 0.7824 - acc: 0.6521\n",
      "Epoch 6/10\n",
      "86/86 [==============================] - 58s 679ms/step - loss: 0.7574 - acc: 0.6657\n",
      "Epoch 7/10\n",
      "86/86 [==============================] - 58s 676ms/step - loss: 0.7194 - acc: 0.7001\n",
      "Epoch 8/10\n",
      "86/86 [==============================] - 59s 683ms/step - loss: 0.6786 - acc: 0.7159\n",
      "Epoch 9/10\n",
      "86/86 [==============================] - 58s 675ms/step - loss: 0.6564 - acc: 0.7240\n",
      "Epoch 10/10\n",
      "86/86 [==============================] - 58s 673ms/step - loss: 0.6422 - acc: 0.7280\n"
     ]
    },
    {
     "data": {
      "text/plain": [
       "[0.750736837387085, 0.635]"
      ]
     },
     "execution_count": 9,
     "metadata": {
      "tags": []
     },
     "output_type": "execute_result"
    }
   ],
   "source": [
    "classifier.fit_generator(\n",
    "    transformer.flow(X_train, y_train),\n",
    "    epochs=10,\n",
    "    verbose=1 # , callbacks=K.callbacks.CSVLogger('./drive/My Drive/prj/logs/', separator=',', append=False)\n",
    ")\n",
    "score_permu = classifier.evaluate(X_test, y_test, verbose=0)\n",
    "score_permu"
   ]
  },
  {
   "cell_type": "code",
   "execution_count": 0,
   "metadata": {
    "id": "Uek-8pLMauL9",
    "colab_type": "code",
    "colab": {}
   },
   "outputs": [],
   "source": [
    "# classifier.save(\"./drive/My Drive/prj/models/first.h5\", 'w+')"
   ]
  }
 ],
 "metadata": {
  "colab": {
   "name": "first_colab_model",
   "version": "0.3.2",
   "provenance": [],
   "collapsed_sections": []
  },
  "kernelspec": {
   "name": "python3",
   "display_name": "Python 3"
  },
  "accelerator": "GPU"
 },
 "nbformat": 4,
 "nbformat_minor": 0
}

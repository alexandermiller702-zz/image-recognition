{
 "cells": [
  {
   "cell_type": "code",
   "execution_count": 2,
   "metadata": {
    "id": "pFlXwUu3lCY1",
    "colab_type": "code",
    "colab": {
     "base_uri": "https://localhost:8080/",
     "height": 122.0
    },
    "outputId": "2a7affda-e54a-4cb4-fd5e-db74de2ed620",
    "collapsed": true
   },
   "outputs": [
    {
     "name": "stdout",
     "output_type": "stream",
     "text": [
      "Go to this URL in a browser: https://accounts.google.com/o/oauth2/auth?client_id=947318989803-6bn6qk8qdgf4n4g3pfee6491hc0brc4i.apps.googleusercontent.com&redirect_uri=urn%3Aietf%3Awg%3Aoauth%3A2.0%3Aoob&scope=email%20https%3A%2F%2Fwww.googleapis.com%2Fauth%2Fdocs.test%20https%3A%2F%2Fwww.googleapis.com%2Fauth%2Fdrive%20https%3A%2F%2Fwww.googleapis.com%2Fauth%2Fdrive.photos.readonly%20https%3A%2F%2Fwww.googleapis.com%2Fauth%2Fpeopleapi.readonly&response_type=code\n",
      "\n",
      "Enter your authorization code:\n",
      "··········\n",
      "Mounted at /content/drive\n"
     ]
    }
   ],
   "source": [
    "from google.colab import drive\n",
    "drive.mount('/content/drive')"
   ]
  },
  {
   "cell_type": "code",
   "execution_count": 3,
   "metadata": {
    "id": "7HsCbCCk0zyj",
    "colab_type": "code",
    "colab": {
     "base_uri": "https://localhost:8080/",
     "height": 34.0
    },
    "outputId": "9ede9d6a-9fed-40fd-807a-6863d2cd4cfc"
   },
   "outputs": [
    {
     "name": "stdout",
     "output_type": "stream",
     "text": [
      "cherry\tstrawberry  tomato\n"
     ]
    }
   ],
   "source": [
    "!ls \"drive/My Drive/Train_data\""
   ]
  },
  {
   "cell_type": "code",
   "execution_count": 4,
   "metadata": {
    "id": "mt_kdzw1RONl",
    "colab_type": "code",
    "colab": {
     "base_uri": "https://localhost:8080/",
     "height": 34.0
    },
    "outputId": "66550110-f20d-421f-e68c-6018b08294eb"
   },
   "outputs": [
    {
     "data": {
      "text/plain": [
       "'/device:GPU:0'"
      ]
     },
     "execution_count": 4,
     "metadata": {
      "tags": []
     },
     "output_type": "execute_result"
    }
   ],
   "source": [
    "import tensorflow as tf\n",
    "tf.test.gpu_device_name()"
   ]
  },
  {
   "cell_type": "code",
   "execution_count": 5,
   "metadata": {
    "id": "iXR7Kq_AdZuC",
    "colab_type": "code",
    "colab": {
     "base_uri": "https://localhost:8080/",
     "height": 153.0
    },
    "outputId": "dd5d1439-b5f8-48c7-b04b-76961a0eec64",
    "collapsed": true
   },
   "outputs": [
    {
     "name": "stdout",
     "output_type": "stream",
     "text": [
      "Collecting imutils\n",
      "  Downloading https://files.pythonhosted.org/packages/ee/29/6b20a2f2444be479cbd74b8fb0dd2ee92671e1c52360f1cb022c6c00e052/imutils-0.5.1.tar.gz\n",
      "Building wheels for collected packages: imutils\n",
      "  Running setup.py bdist_wheel for imutils ... \u001b[?25l-\b \b\\\b \bdone\n",
      "\u001b[?25h  Stored in directory: /root/.cache/pip/wheels/4c/ff/aa/824fb9efc5b8c740d54cd8bc19c7e85fbb8d115c77e56812c7\n",
      "Successfully built imutils\n",
      "Installing collected packages: imutils\n",
      "Successfully installed imutils-0.5.1\n"
     ]
    }
   ],
   "source": [
    "!pip install imutils"
   ]
  },
  {
   "cell_type": "code",
   "execution_count": 0,
   "metadata": {
    "id": "4zWz0975o4IE",
    "colab_type": "code",
    "colab": {}
   },
   "outputs": [],
   "source": [
    "import numpy as np\n",
    "import random\n",
    "import cv2\n",
    "from imutils import paths\n",
    "import os\n",
    "import tensorflow.keras as K\n",
    "from sklearn.preprocessing import LabelBinarizer\n",
    "from tensorflow.keras.preprocessing.image import img_to_array, ImageDataGenerator\n",
    "from tensorflow.keras.models import Sequential\n",
    "from tensorflow.keras.layers import (Convolution2D, SeparableConvolution2D, MaxPooling2D, Flatten, Dense, Dropout)\n",
    "\n",
    "SEED = 309\n",
    "np.random.seed(SEED)\n",
    "random.seed(SEED)"
   ]
  },
  {
   "cell_type": "markdown",
   "metadata": {
    "id": "_CWY2wehpHDQ",
    "colab_type": "text"
   },
   "source": [
    "Set parameters for your run here. "
   ]
  },
  {
   "cell_type": "code",
   "execution_count": 0,
   "metadata": {
    "id": "q6qJ8VwMdgQP",
    "colab_type": "code",
    "colab": {}
   },
   "outputs": [],
   "source": [
    "# Total train dataset size is 3755\n",
    "t_size = [3500, 200]\n",
    "WIDTH, HEIGHT = 300, 300\n",
    "image_size = (WIDTH, HEIGHT, 3)\n",
    "test_data_dir = \"./drive/My Drive/Train_data\""
   ]
  },
  {
   "cell_type": "markdown",
   "metadata": {
    "id": "O2defztbpJ_f",
    "colab_type": "text"
   },
   "source": [
    "This collects the indices of the images data ()their file paths)"
   ]
  },
  {
   "cell_type": "code",
   "execution_count": 0,
   "metadata": {
    "id": "MLzg5baXbyrE",
    "colab_type": "code",
    "colab": {}
   },
   "outputs": [],
   "source": [
    "ps_up = sorted(list(paths.list_images(\"./drive/My Drive/Train_data\")))\n",
    "ps_up = [ps.replace(\"\\\\\",\"\") for ps in ps_up]\n",
    "\n",
    "# build a range as pointers for image files\n",
    "temp = range(0, len(ps_up))"
   ]
  },
  {
   "cell_type": "markdown",
   "metadata": {
    "id": "U4PaLmjbpP-3",
    "colab_type": "text"
   },
   "source": [
    "Load training data"
   ]
  },
  {
   "cell_type": "code",
   "execution_count": 0,
   "metadata": {
    "id": "G_SWRgXb2WYs",
    "colab_type": "code",
    "colab": {}
   },
   "outputs": [],
   "source": [
    "# randomly sample for our training set\n",
    "# needs to be big enough to be have capacity for a validation set\n",
    "train_indices = np.random.choice(temp, size = t_size[0], replace = False)\n",
    "train = [ps_up[i] for i in train_indices]\n",
    "\n",
    "lbls, imgs = [],[]\n",
    "for imagePath in train:\n",
    "  image = cv2.imread(imagePath)\n",
    "  # load the image, pre-process it, and store it in the data list\n",
    "  image = cv2.resize(image, (WIDTH, HEIGHT))\n",
    "  image = img_to_array(image)\n",
    "  imgs.append(image)\n",
    "  label = imagePath.split(os.path.sep)[-2]\n",
    "  lbls.append(label)\n",
    "\n",
    "X_train = np.array(imgs, dtype=\"float\") / 255.0\n",
    "y_train = np.array(lbls)\n",
    "\n",
    "# Binarize the labels\n",
    "lb = LabelBinarizer()\n",
    "y_train = lb.fit_transform(y_train)"
   ]
  },
  {
   "cell_type": "markdown",
   "metadata": {
    "id": "lEaashvFpgiH",
    "colab_type": "text"
   },
   "source": [
    "Load test data"
   ]
  },
  {
   "cell_type": "code",
   "execution_count": 0,
   "metadata": {
    "id": "ZZd5BdM_2WQN",
    "colab_type": "code",
    "colab": {}
   },
   "outputs": [],
   "source": [
    "# exclude those training images from our test set\n",
    "temp = [i for i in temp if i not in train]\n",
    "# subset for testing\n",
    "test_indices = np.random.choice(temp, size = t_size[1], replace = False)\n",
    "test = [ps_up[i] for i in test_indices]\n",
    "\n",
    "lbls, imgs = [],[]\n",
    "for imagePath in test:\n",
    "  image = cv2.imread(imagePath)\n",
    "  # load the image, pre-process it, and store it in the data list\\\n",
    "  image = cv2.resize(image, (WIDTH, HEIGHT))\n",
    "  image = img_to_array(image)\n",
    "  imgs.append(image)\n",
    "  label = imagePath.split(os.path.sep)[-2]\n",
    "  lbls.append(label)\n",
    "\n",
    "X_test = np.array(imgs, dtype=\"float\") / 255.0\n",
    "y_test = np.array(lbls)\n",
    "\n",
    "# Binarize the labels\n",
    "# Re use the original binariser.\n",
    "y_test = lb.fit_transform(y_test)"
   ]
  },
  {
   "cell_type": "markdown",
   "metadata": {
    "id": "K42RtF1cph9B",
    "colab_type": "text"
   },
   "source": [
    "This is a quick sanity check"
   ]
  },
  {
   "cell_type": "code",
   "execution_count": 11,
   "metadata": {
    "id": "OuQfqbAA2WHe",
    "colab_type": "code",
    "colab": {
     "base_uri": "https://localhost:8080/",
     "height": 51.0
    },
    "outputId": "ec02cc83-19b5-464d-c718-68b6e25dacd8"
   },
   "outputs": [
    {
     "name": "stdout",
     "output_type": "stream",
     "text": [
      "X_train y_train X_test y_test\n",
      "[True, True] [True, True]\n"
     ]
    }
   ],
   "source": [
    "print('X_train', 'y_train', 'X_test', 'y_test')\n",
    "print([len(X_train)==t_size[0],len(y_train)==t_size[0]],\n",
    "      [len(X_test)==t_size[1], len(y_test)==t_size[1]])"
   ]
  },
  {
   "cell_type": "markdown",
   "metadata": {
    "id": "BKl1N2TdMj5a",
    "colab_type": "text"
   },
   "source": [
    "model"
   ]
  },
  {
   "cell_type": "code",
   "execution_count": 0,
   "metadata": {
    "id": "CPAVLnAg2sR7",
    "colab_type": "code",
    "colab": {}
   },
   "outputs": [],
   "source": [
    "classifier = Sequential()\n",
    "# Base layer\n",
    "classifier.add(\n",
    "    Convolution2D(\n",
    "        64, 3, 3,\n",
    "        input_shape=image_size,\n",
    "        activation='relu'\n",
    "    )\n",
    ")\n",
    "classifier.add(MaxPooling2D(pool_size=(2, 2)))\n",
    "classifier.add(Convolution2D(128, 3, 3, activation='relu'))\n",
    "classifier.add(MaxPooling2D(pool_size=(2, 2), padding='same'))\n",
    "\n",
    "classifier.add(Convolution2D(256, 3, 3, activation='relu', padding='same'))\n",
    "classifier.add(MaxPooling2D(pool_size=(2, 2), padding='same'))\n",
    "classifier.add(Convolution2D(512, 3, 3, activation='relu', padding='same'))\n",
    "classifier.add(MaxPooling2D(pool_size=(2, 2), padding='same'))\n",
    "classifier.add(Convolution2D(1024, 3, 3, activation='relu', padding='same'))\n",
    "\n",
    "classifier.add(Flatten())\n",
    "classifier.add(Dense(units=1024, activation='relu'))\n",
    "classifier.add(Dense(units=3, activation='sigmoid'))\n",
    "\n",
    "classifier.compile(\n",
    "    loss=K.losses.categorical_crossentropy,\n",
    "    optimizer=K.optimizers.Adam(),\n",
    "    metrics=['accuracy'],\n",
    "    \n",
    ")"
   ]
  },
  {
   "cell_type": "markdown",
   "metadata": {
    "id": "0ycrv0zUp4Mn",
    "colab_type": "text"
   },
   "source": [
    "Fit without generator:\n",
    "\n",
    "Callback is CSVLogger so it can write to drive."
   ]
  },
  {
   "cell_type": "code",
   "execution_count": 30,
   "metadata": {
    "id": "h88XhXu5KdU2",
    "colab_type": "code",
    "colab": {
     "base_uri": "https://localhost:8080/",
     "height": 1071.0
    },
    "outputId": "58275438-fd07-41c6-eccd-bfa74d565981",
    "collapsed": true
   },
   "outputs": [
    {
     "name": "stdout",
     "output_type": "stream",
     "text": [
      "Train on 2800 samples, validate on 700 samples\n",
      "Epoch 1/30\n",
      "2800/2800 [==============================] - 13s 5ms/step - loss: 1.0731 - acc: 0.4318 - val_loss: 1.0026 - val_acc: 0.5014\n",
      "Epoch 2/30\n",
      "2800/2800 [==============================] - 12s 4ms/step - loss: 0.9388 - acc: 0.5643 - val_loss: 0.9008 - val_acc: 0.6000\n",
      "Epoch 3/30\n",
      "2800/2800 [==============================] - 11s 4ms/step - loss: 0.8885 - acc: 0.5861 - val_loss: 0.9010 - val_acc: 0.5871\n",
      "Epoch 4/30\n",
      "2800/2800 [==============================] - 11s 4ms/step - loss: 0.8515 - acc: 0.6029 - val_loss: 0.9489 - val_acc: 0.5129\n",
      "Epoch 5/30\n",
      "2800/2800 [==============================] - 11s 4ms/step - loss: 0.7698 - acc: 0.6618 - val_loss: 0.7889 - val_acc: 0.6671\n",
      "Epoch 6/30\n",
      "2800/2800 [==============================] - 11s 4ms/step - loss: 0.7170 - acc: 0.6975 - val_loss: 0.8247 - val_acc: 0.6500\n",
      "Epoch 7/30\n",
      "2800/2800 [==============================] - 11s 4ms/step - loss: 0.6608 - acc: 0.7232 - val_loss: 0.7579 - val_acc: 0.7386\n",
      "Epoch 8/30\n",
      "2800/2800 [==============================] - 12s 4ms/step - loss: 0.5232 - acc: 0.7846 - val_loss: 0.7444 - val_acc: 0.7186\n",
      "Epoch 9/30\n",
      "2800/2800 [==============================] - 11s 4ms/step - loss: 0.4515 - acc: 0.8275 - val_loss: 0.8972 - val_acc: 0.6429\n",
      "Epoch 10/30\n",
      "2800/2800 [==============================] - 11s 4ms/step - loss: 0.3988 - acc: 0.8493 - val_loss: 0.8412 - val_acc: 0.7343\n",
      "Epoch 11/30\n",
      "2800/2800 [==============================] - 11s 4ms/step - loss: 0.2903 - acc: 0.8896 - val_loss: 1.1117 - val_acc: 0.6629\n",
      "Epoch 12/30\n",
      "2800/2800 [==============================] - 11s 4ms/step - loss: 0.2234 - acc: 0.9182 - val_loss: 1.2075 - val_acc: 0.7043\n",
      "Epoch 13/30\n",
      "2800/2800 [==============================] - 11s 4ms/step - loss: 0.1824 - acc: 0.9343 - val_loss: 1.4888 - val_acc: 0.6514\n",
      "Epoch 14/30\n",
      "2800/2800 [==============================] - 11s 4ms/step - loss: 0.1248 - acc: 0.9579 - val_loss: 1.4287 - val_acc: 0.7129\n",
      "Epoch 15/30\n",
      "2800/2800 [==============================] - 11s 4ms/step - loss: 0.1105 - acc: 0.9611 - val_loss: 1.3497 - val_acc: 0.7157\n",
      "Epoch 16/30\n",
      "2800/2800 [==============================] - 11s 4ms/step - loss: 0.0575 - acc: 0.9804 - val_loss: 1.9036 - val_acc: 0.7200\n",
      "Epoch 17/30\n",
      "2800/2800 [==============================] - 11s 4ms/step - loss: 0.0981 - acc: 0.9639 - val_loss: 1.6339 - val_acc: 0.7314\n",
      "Epoch 18/30\n",
      "2800/2800 [==============================] - 11s 4ms/step - loss: 0.0516 - acc: 0.9850 - val_loss: 1.6924 - val_acc: 0.7000\n",
      "Epoch 19/30\n",
      "2800/2800 [==============================] - 11s 4ms/step - loss: 0.0358 - acc: 0.9861 - val_loss: 2.0038 - val_acc: 0.7414\n",
      "Epoch 20/30\n",
      "2800/2800 [==============================] - 11s 4ms/step - loss: 0.0911 - acc: 0.9696 - val_loss: 1.6776 - val_acc: 0.7000\n",
      "Epoch 21/30\n",
      "2800/2800 [==============================] - 11s 4ms/step - loss: 0.0640 - acc: 0.9775 - val_loss: 1.5885 - val_acc: 0.7114\n",
      "Epoch 22/30\n",
      "2800/2800 [==============================] - 11s 4ms/step - loss: 0.0331 - acc: 0.9889 - val_loss: 2.0975 - val_acc: 0.6957\n",
      "Epoch 23/30\n",
      "2800/2800 [==============================] - 11s 4ms/step - loss: 0.0229 - acc: 0.9925 - val_loss: 2.0852 - val_acc: 0.7057\n",
      "Epoch 24/30\n",
      "2800/2800 [==============================] - 11s 4ms/step - loss: 0.0923 - acc: 0.9736 - val_loss: 1.5958 - val_acc: 0.7171\n",
      "Epoch 25/30\n",
      "2800/2800 [==============================] - 11s 4ms/step - loss: 0.0389 - acc: 0.9832 - val_loss: 1.9200 - val_acc: 0.7029\n",
      "Epoch 26/30\n",
      "2800/2800 [==============================] - 11s 4ms/step - loss: 0.0195 - acc: 0.9929 - val_loss: 1.9955 - val_acc: 0.6900\n",
      "Epoch 27/30\n",
      "2800/2800 [==============================] - 11s 4ms/step - loss: 0.0427 - acc: 0.9854 - val_loss: 1.5752 - val_acc: 0.7143\n",
      "Epoch 28/30\n",
      "2800/2800 [==============================] - 11s 4ms/step - loss: 0.0196 - acc: 0.9936 - val_loss: 2.1110 - val_acc: 0.6829\n",
      "Epoch 29/30\n",
      "2800/2800 [==============================] - 11s 4ms/step - loss: 0.0738 - acc: 0.9754 - val_loss: 2.3242 - val_acc: 0.5957\n",
      "Epoch 30/30\n",
      "2800/2800 [==============================] - 11s 4ms/step - loss: 0.0544 - acc: 0.9825 - val_loss: 2.0213 - val_acc: 0.6786\n"
     ]
    },
    {
     "data": {
      "text/plain": [
       "[0.4170594669133425, 0.945]"
      ]
     },
     "execution_count": 30,
     "metadata": {
      "tags": []
     },
     "output_type": "execute_result"
    }
   ],
   "source": [
    "classifier.fit(\n",
    "    X_train, y_train,\n",
    "    batch_size=32,\n",
    "    epochs=30,\n",
    "    verbose=1,\n",
    "    validation_split=0.2, \n",
    "    callbacks=[K.callbacks.CSVLogger('./drive/My Drive/prj/logs/fifth_final.csv', separator=',', append=True)]\n",
    ")\n",
    "score = classifier.evaluate(X_test, y_test, verbose=0)\n",
    "score"
   ]
  },
  {
   "cell_type": "code",
   "execution_count": 23,
   "metadata": {
    "id": "ljn-3hlyRBPZ",
    "colab_type": "code",
    "colab": {
     "base_uri": "https://localhost:8080/",
     "height": 2176.0
    },
    "outputId": "3e090069-4891-4037-add5-3af324eecc5e"
   },
   "outputs": [
    {
     "name": "stdout",
     "output_type": "stream",
     "text": [
      "                0             1             2               paths_  \\\n",
      "0    9.994501e-01  9.889761e-01  1.908592e-04      cherry_0835.jpg   \n",
      "1    9.969657e-01  9.950427e-01  3.077818e-03  strawberry_0496.jpg   \n",
      "2    3.490219e-04  3.561716e-04  9.999553e-01      tomato_0115.jpg   \n",
      "3    2.134736e-02  1.566077e-02  9.927487e-01      tomato_1453.jpg   \n",
      "4    9.999989e-01  9.999863e-01  6.242022e-07  strawberry_1990.jpg   \n",
      "5    9.244129e-01  1.850771e-01  2.618350e-02      cherry_1517.jpg   \n",
      "6    1.000000e+00  1.000000e+00  4.454305e-20      cherry_1877.jpg   \n",
      "7    1.000000e+00  1.000000e+00  1.399146e-13  strawberry_2016.jpg   \n",
      "8    9.996374e-01  4.378458e-02  8.918051e-06      cherry_0793.jpg   \n",
      "9    2.635427e-05  3.332852e-05  9.999981e-01      tomato_0654.jpg   \n",
      "10   9.820614e-01  1.508209e-01  2.858717e-03      cherry_1463.jpg   \n",
      "11   1.000000e+00  1.000000e+00  3.297778e-15      cherry_1613.jpg   \n",
      "12   8.969576e-01  6.894299e-01  6.194155e-02      cherry_2267.jpg   \n",
      "13   4.607813e-04  4.792399e-04  9.999369e-01      tomato_0231.jpg   \n",
      "14   9.984865e-01  9.674438e-01  4.727589e-04      cherry_0639.jpg   \n",
      "15   2.453568e-02  2.446130e-02  9.905850e-01      tomato_0313.jpg   \n",
      "16   1.000000e+00  1.000000e+00  2.060820e-12  strawberry_1477.jpg   \n",
      "17   1.000000e+00  1.000000e+00  2.448634e-23  strawberry_0293.jpg   \n",
      "18   9.946122e-01  9.955368e-01  7.070557e-03  strawberry_0905.jpg   \n",
      "19   3.599467e-04  3.687225e-04  9.999536e-01      tomato_1228.jpg   \n",
      "20   3.033698e-01  2.160957e-01  7.692587e-01      cherry_0855.jpg   \n",
      "21   7.686323e-03  6.281381e-03  9.979545e-01      tomato_1096.jpg   \n",
      "22   2.584302e-03  2.207611e-03  9.994708e-01      tomato_0831.jpg   \n",
      "23   2.532848e-06  3.783242e-06  9.999999e-01      tomato_1709.jpg   \n",
      "24   9.998261e-01  9.992071e-01  1.284991e-04  strawberry_1662.jpg   \n",
      "25   4.028048e-04  4.052607e-04  9.999467e-01      tomato_0901.jpg   \n",
      "26   2.216170e-06  3.494170e-06  9.999999e-01      tomato_1057.jpg   \n",
      "27   4.648567e-04  4.811172e-04  9.999359e-01      tomato_1150.jpg   \n",
      "28   9.999973e-01  9.999952e-01  3.540892e-06  strawberry_0801.jpg   \n",
      "29   4.196689e-02  2.893213e-02  9.831784e-01      tomato_0942.jpg   \n",
      "..            ...           ...           ...                  ...   \n",
      "170  9.995613e-01  9.363095e-01  6.209880e-05      cherry_1132.jpg   \n",
      "171  7.452348e-01  2.445911e-01  2.075493e-01      cherry_0160.jpg   \n",
      "172  9.163126e-01  9.183035e-01  9.119926e-02      cherry_2028.jpg   \n",
      "173  8.811105e-01  4.525933e-01  5.717108e-02      cherry_1320.jpg   \n",
      "174  9.041721e-01  8.908629e-01  9.752347e-02  strawberry_0392.jpg   \n",
      "175  1.000000e+00  1.000000e+00  3.378293e-27  strawberry_0051.jpg   \n",
      "176  3.674369e-02  2.674852e-02  9.857259e-01      tomato_1625.jpg   \n",
      "177  7.815367e-02  5.122980e-02  9.630738e-01      tomato_0999.jpg   \n",
      "178  1.619598e-03  1.502052e-03  9.997036e-01      tomato_1930.jpg   \n",
      "179  8.837149e-01  6.467383e-01  6.877007e-02  strawberry_0484.jpg   \n",
      "180  9.999658e-01  2.570123e-02  2.958788e-07      cherry_1846.jpg   \n",
      "181  1.478736e-05  1.981442e-05  9.999990e-01      tomato_1564.jpg   \n",
      "182  9.999874e-01  9.999979e-01  4.042229e-05  strawberry_2063.jpg   \n",
      "183  1.000000e+00  1.000000e+00  1.015827e-08  strawberry_1774.jpg   \n",
      "184  1.164185e-01  1.313111e-01  9.264275e-01  strawberry_1283.jpg   \n",
      "185  9.999990e-01  9.999899e-01  5.592416e-07  strawberry_1840.jpg   \n",
      "186  1.000000e+00  9.999999e-01  5.399460e-10  strawberry_0785.jpg   \n",
      "187  1.000000e+00  9.999999e-01  1.594603e-09  strawberry_1618.jpg   \n",
      "188  8.658386e-01  6.389518e-01  8.369732e-02      cherry_1298.jpg   \n",
      "189  7.490615e-04  7.371219e-04  9.998848e-01      tomato_0221.jpg   \n",
      "190  1.132554e-04  1.260987e-04  9.999888e-01      tomato_1493.jpg   \n",
      "191  2.837583e-01  1.476948e-01  8.114093e-01      tomato_0637.jpg   \n",
      "192  8.390291e-06  1.160120e-05  9.999995e-01      cherry_2348.jpg   \n",
      "193  2.333981e-07  4.391745e-07  1.000000e+00      tomato_1508.jpg   \n",
      "194  3.220821e-06  4.814146e-06  9.999999e-01      tomato_1794.jpg   \n",
      "195  9.562859e-01  1.772110e-01  1.095587e-02      cherry_0049.jpg   \n",
      "196  1.270667e-03  1.496601e-03  9.997671e-01      tomato_0325.jpg   \n",
      "197  1.160925e-05  1.589771e-05  9.999993e-01      tomato_1769.jpg   \n",
      "198  9.960774e-01  8.392413e-01  8.715924e-04      tomato_0263.jpg   \n",
      "199  9.789665e-01  7.390652e-01  7.126653e-03      cherry_1106.jpg   \n",
      "\n",
      "          paths  0  1  2  \n",
      "0        cherry  1  0  0  \n",
      "1    strawberry  0  1  0  \n",
      "2        tomato  0  0  1  \n",
      "3        tomato  0  0  1  \n",
      "4    strawberry  0  1  0  \n",
      "5        cherry  1  0  0  \n",
      "6        cherry  1  0  0  \n",
      "7    strawberry  0  1  0  \n",
      "8        cherry  1  0  0  \n",
      "9        tomato  0  0  1  \n",
      "10       cherry  1  0  0  \n",
      "11       cherry  1  0  0  \n",
      "12       cherry  1  0  0  \n",
      "13       tomato  0  0  1  \n",
      "14       cherry  1  0  0  \n",
      "15       tomato  0  0  1  \n",
      "16   strawberry  0  1  0  \n",
      "17   strawberry  0  1  0  \n",
      "18   strawberry  0  1  0  \n",
      "19       tomato  0  0  1  \n",
      "20       cherry  1  0  0  \n",
      "21       tomato  0  0  1  \n",
      "22       tomato  0  0  1  \n",
      "23       tomato  0  0  1  \n",
      "24   strawberry  0  1  0  \n",
      "25       tomato  0  0  1  \n",
      "26       tomato  0  0  1  \n",
      "27       tomato  0  0  1  \n",
      "28   strawberry  0  1  0  \n",
      "29       tomato  0  0  1  \n",
      "..          ... .. .. ..  \n",
      "170      cherry  1  0  0  \n",
      "171      cherry  1  0  0  \n",
      "172      cherry  1  0  0  \n",
      "173      cherry  1  0  0  \n",
      "174  strawberry  0  1  0  \n",
      "175  strawberry  0  1  0  \n",
      "176      tomato  0  0  1  \n",
      "177      tomato  0  0  1  \n",
      "178      tomato  0  0  1  \n",
      "179  strawberry  0  1  0  \n",
      "180      cherry  1  0  0  \n",
      "181      tomato  0  0  1  \n",
      "182  strawberry  0  1  0  \n",
      "183  strawberry  0  1  0  \n",
      "184  strawberry  0  1  0  \n",
      "185  strawberry  0  1  0  \n",
      "186  strawberry  0  1  0  \n",
      "187  strawberry  0  1  0  \n",
      "188      cherry  1  0  0  \n",
      "189      tomato  0  0  1  \n",
      "190      tomato  0  0  1  \n",
      "191      tomato  0  0  1  \n",
      "192      cherry  1  0  0  \n",
      "193      tomato  0  0  1  \n",
      "194      tomato  0  0  1  \n",
      "195      cherry  1  0  0  \n",
      "196      tomato  0  0  1  \n",
      "197      tomato  0  0  1  \n",
      "198      tomato  0  0  1  \n",
      "199      cherry  1  0  0  \n",
      "\n",
      "[200 rows x 8 columns]\n"
     ]
    }
   ],
   "source": [
    "from pandas import DataFrame, concat\n",
    "a = DataFrame(classifier.predict(X_test))\n",
    "b = DataFrame(y_test)\n",
    "a['paths_'] = [i.split('/')[5] for i in test]\n",
    "a['paths'] = [i.split('/')[4] for i in test]\n",
    "a= concat([a, b], axis=1)\n",
    "print(a)\n"
   ]
  },
  {
   "cell_type": "code",
   "execution_count": 0,
   "metadata": {
    "id": "i_EPCJd-nyzg",
    "colab_type": "code",
    "colab": {}
   },
   "outputs": [],
   "source": [
    "a.to_csv(\"./drive/My Drive/prj/predictions_third_dropout.csv\")"
   ]
  },
  {
   "cell_type": "markdown",
   "metadata": {
    "id": "70qGyUdWp-EN",
    "colab_type": "text"
   },
   "source": [
    "Save Model"
   ]
  },
  {
   "cell_type": "code",
   "execution_count": 0,
   "metadata": {
    "id": "6UEXmqzjQx90",
    "colab_type": "code",
    "colab": {}
   },
   "outputs": [],
   "source": [
    "classifier.save(\"./drive/My Drive/prj/models/last.h5\", 'w+')"
   ]
  },
  {
   "cell_type": "markdown",
   "metadata": {
    "id": "IMAmTCWtqMM2",
    "colab_type": "text"
   },
   "source": [
    "Image noise generator:"
   ]
  },
  {
   "cell_type": "code",
   "execution_count": 0,
   "metadata": {
    "id": "70Gvo1_g1jel",
    "colab_type": "code",
    "colab": {}
   },
   "outputs": [],
   "source": [
    "transformer= ImageDataGenerator(\n",
    "    zoom_range=0.2,  # randomly zoom into images\n",
    "    rotation_range=10,  # randomly rotate images in the range (degrees, 0 to 180)\n",
    "    width_shift_range=0.1,  # randomly shift images horizontally (fraction of total width)\n",
    "    height_shift_range=0.1,  # randomly shift images vertically (fraction of total height)\n",
    "    horizontal_flip=True,  # randomly flip images\n",
    "    vertical_flip=True  # randomly flip images\n",
    ")"
   ]
  },
  {
   "cell_type": "markdown",
   "metadata": {
    "id": "3avQwJblqPwD",
    "colab_type": "text"
   },
   "source": [
    "Train with generator"
   ]
  },
  {
   "cell_type": "code",
   "execution_count": 0,
   "metadata": {
    "id": "yL6ISQScWV-w",
    "colab_type": "code",
    "colab": {}
   },
   "outputs": [],
   "source": [
    "classifier.fit_generator(\n",
    "    transformer.flow(X_train, y_train),\n",
    "    epochs=10,\n",
    "    verbose=1 # , callbacks=K.callbacks.CSVLogger('./drive/My Drive/prj/logs/', separator=',', append=False)\n",
    ")\n",
    "score_permu = classifier.evaluate(X_test, y_test, verbose=0)\n",
    "score_permu"
   ]
  },
  {
   "cell_type": "code",
   "execution_count": 0,
   "metadata": {
    "id": "Uek-8pLMauL9",
    "colab_type": "code",
    "colab": {}
   },
   "outputs": [],
   "source": [
    "# classifier.save(\"./drive/My Drive/prj/models/first.h5\", 'w+')"
   ]
  }
 ],
 "metadata": {
  "colab": {
   "name": "colab_model",
   "version": "0.3.2",
   "provenance": [],
   "collapsed_sections": []
  },
  "kernelspec": {
   "name": "python3",
   "display_name": "Python 3"
  },
  "accelerator": "GPU"
 },
 "nbformat": 4,
 "nbformat_minor": 0
}
